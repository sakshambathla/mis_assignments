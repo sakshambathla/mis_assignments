{
 "cells": [
  {
   "cell_type": "code",
   "execution_count": 1,
   "metadata": {},
   "outputs": [
    {
     "name": "stdout",
     "output_type": "stream",
     "text": [
      "vector with least distance from a is : [4, 3, 5], minimum distance = 3.1622776601683795\n",
      "vector with least angle to a is : [30, 40, 50], minimum angle = 0.24256387409548533\n"
     ]
    }
   ],
   "source": [
    "#(5). A3.2\n",
    "\n",
    "using LinearAlgebra\n",
    "a = [1,3,4]\n",
    "x = []\n",
    "push!(x,[4,3,5])\n",
    "push!(x,[0.4,10,50])\n",
    "push!(x,[1,4,10])\n",
    "push!(x,[30,40,50])\n",
    "min_dist = typemax(Int)\n",
    "min_angle = typemax(Int)\n",
    "min_angle_vector = x[1]\n",
    "min_dist_vector = x[1]\n",
    "for i in x\n",
    "    curr_dist = norm(i-a)\n",
    "    curr_angle =  acos(dot(a,i)/(norm(a)*norm(i)))\n",
    "    if(curr_dist < min_dist)\n",
    "        min_dist = curr_dist\n",
    "        min_dist_vector = i\n",
    "    end\n",
    "    if(curr_angle < min_angle)\n",
    "        min_angle = curr_angle\n",
    "        min_angle_vector = i\n",
    "    end    \n",
    "end\n",
    "println(\"vector with least distance from a is : $min_dist_vector, minimum distance = $min_dist\")\n",
    "println(\"vector with least angle to a is : $min_angle_vector, minimum angle = $min_angle\")\n"
   ]
  },
  {
   "cell_type": "code",
   "execution_count": 2,
   "metadata": {},
   "outputs": [],
   "source": [
    "include(\"wikipedia_corpus.jl\")\n",
    "include(\"kmeans.jl\")\n",
    "using Main.Kmeans\n",
    "using SparseArrays\n",
    "using Statistics\n",
    "using PyPlot"
   ]
  },
  {
   "cell_type": "code",
   "execution_count": 11,
   "metadata": {},
   "outputs": [
    {
     "data": {
      "text/plain": [
       "equalize_iterations (generic function with 1 method)"
      ]
     },
     "execution_count": 11,
     "metadata": {},
     "output_type": "execute_result"
    }
   ],
   "source": [
    "function equalize_iterations(data1, data2)\n",
    "    n = max(data1.size, data2.size)\n",
    "    if data1.length < data2.length\n",
    "        tmp = data1[end] * ones(n-data1.length)\n",
    "        append!(data1, tmp)\n",
    "    elseif data2.length < data1.length    \n",
    "        tmp = data2[end] * ones(n-data2.length)\n",
    "        append!(data2, tmp)\n",
    "    end\n",
    "    return data1, data2\n",
    "end    "
   ]
  },
  {
   "cell_type": "code",
   "execution_count": 12,
   "metadata": {},
   "outputs": [
    {
     "ename": "LoadError",
     "evalue": "type Array has no field length",
     "output_type": "error",
     "traceback": [
      "type Array has no field length",
      "",
      "Stacktrace:",
      " [1] getproperty(x::Vector{Float64}, f::Symbol)",
      "   @ Base .\\Base.jl:33",
      " [2] equalize_iterations(data1::Vector{Float64}, data2::Vector{Float64})",
      "   @ Main .\\In[11]:2",
      " [3] top-level scope",
      "   @ In[12]:8",
      " [4] eval",
      "   @ .\\boot.jl:360 [inlined]",
      " [5] include_string(mapexpr::typeof(REPL.softscope), mod::Module, code::String, filename::String)",
      "   @ Base .\\loading.jl:1116"
     ]
    }
   ],
   "source": [
    "# K = 2 \n",
    "centroids_1, labels_1, j_hist_1 = kmeans(article_histograms, 2)\n",
    "j_1 = j_hist_1\n",
    "\n",
    "centroids_2, labels_2, j_hist_2 = kmeans(article_histograms, 2)\n",
    "j_2 = j_hist_2\n",
    "\n",
    "plot(equalize_iterations(j_1,j_2))"
   ]
  },
  {
   "cell_type": "code",
   "execution_count": 4,
   "metadata": {},
   "outputs": [
    {
     "data": {
      "text/plain": [
       "0.7512153291830663"
      ]
     },
     "execution_count": 4,
     "metadata": {},
     "output_type": "execute_result"
    }
   ],
   "source": [
    "# K = 5\n",
    "centroids_1, labels_1, j_hist_1 = kmeans(article_histograms, 5)\n",
    "j_1 = j_hist_1\n",
    "\n",
    "centroids_2, labels_2, j_hist_2 = kmeans(article_histograms, 5)\n",
    "j_2 = j_hist_2\n",
    "\n",
    "plot(j_1,j_2)"
   ]
  },
  {
   "cell_type": "code",
   "execution_count": 5,
   "metadata": {},
   "outputs": [
    {
     "data": {
      "text/plain": [
       "0.7488395218834359"
      ]
     },
     "execution_count": 5,
     "metadata": {},
     "output_type": "execute_result"
    }
   ],
   "source": [
    "# K = 10\n",
    "centroids_1, labels_1, j_hist_1 = kmeans(article_histograms, 10)\n",
    "j_1 = j_hist_1\n",
    "\n",
    "centroids_2, labels_2, j_hist_2 = kmeans(article_histograms, 10)\n",
    "j_2 = j_hist_2\n",
    "\n",
    "plot(j_1,j_2)"
   ]
  }
 ],
 "metadata": {
  "kernelspec": {
   "display_name": "Julia 1.6.2",
   "language": "julia",
   "name": "julia-1.6"
  },
  "language_info": {
   "file_extension": ".jl",
   "mimetype": "application/julia",
   "name": "julia",
   "version": "1.6.2"
  }
 },
 "nbformat": 4,
 "nbformat_minor": 4
}
