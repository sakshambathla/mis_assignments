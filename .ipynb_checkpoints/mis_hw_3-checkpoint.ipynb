{
 "cells": [
  {
   "cell_type": "code",
   "execution_count": 2,
   "metadata": {},
   "outputs": [
    {
     "data": {
      "text/plain": [
       "3×5 Matrix{Float64}:\n",
       " 1.0  1.0  1.0   1.0   1.0\n",
       " 1.0  2.0  4.0   8.0  16.0\n",
       " 1.0  3.0  9.0  27.0  81.0"
      ]
     },
     "execution_count": 2,
     "metadata": {},
     "output_type": "execute_result"
    }
   ],
   "source": [
    "\n",
    "\n",
    "function vandermondematrix(t,n)\n",
    "    m = length(t)\n",
    "    V = zeros(m,n)\n",
    "    for i in t\n",
    "        for j=1:n\n",
    "            V[i,j] = i^(j-1)\n",
    "        end\n",
    "    end\n",
    "    return V\n",
    "end\n",
    "\n",
    "\n",
    "t = [1,2,3]\n",
    "n = 5\n",
    "vandermondematrix(t,n)"
   ]
  }
 ],
 "metadata": {
  "kernelspec": {
   "display_name": "Julia 1.6.2",
   "language": "julia",
   "name": "julia-1.6"
  },
  "language_info": {
   "file_extension": ".jl",
   "mimetype": "application/julia",
   "name": "julia",
   "version": "1.6.2"
  }
 },
 "nbformat": 4,
 "nbformat_minor": 4
}
