{
 "cells": [
  {
   "cell_type": "code",
   "execution_count": 13,
   "metadata": {},
   "outputs": [
    {
     "data": {
      "text/plain": [
       "5-element Vector{Float64}:\n",
       "  0.6296296296296255\n",
       "  0.6049382716049432\n",
       " -0.19753086419753174\n",
       " -0.5679012345679012\n",
       "  0.08641975308641975"
      ]
     },
     "execution_count": 13,
     "metadata": {},
     "output_type": "execute_result"
    }
   ],
   "source": [
    "using CurveFit\n",
    "using Polynomials\n",
    "using CalculusWithJulia\n",
    "using Plots\n",
    "Plots.PlotlyBackend()\n",
    "\n"
   ]
  },
  {
   "cell_type": "code",
   "execution_count": 16,
   "metadata": {},
   "outputs": [
    {
     "data": {
      "text/plain": [
       "5-element Vector{Float64}:\n",
       "  0.6296296296296255\n",
       "  0.6049382716049432\n",
       " -0.19753086419753174\n",
       " -0.5679012345679012\n",
       "  0.08641975308641975"
      ]
     },
     "execution_count": 16,
     "metadata": {},
     "output_type": "execute_result"
    }
   ],
   "source": [
    "\n",
    "# 11.11 continued:\n",
    "#For 11.11 solving the system of linear equations \n",
    "\n",
    "\n",
    "x = [1,2,3,4,5]\n",
    "y0 = [2,5,9,-1,-4]\n",
    "\n",
    "A = [1 1 1 -2 -2; 1 2 4 -10 -20; 1 3 9 -27 -81; 1 4 16 4 16; 1 5 25 20 100]\n",
    "B = [2, 5, 9, -1, -4]\n",
    "C = A \\ B\n"
   ]
  },
  {
   "cell_type": "code",
   "execution_count": 17,
   "metadata": {},
   "outputs": [
    {
     "data": {
      "image/svg+xml": [
       "<?xml version=\"1.0\" encoding=\"utf-8\"?>\n",
       "<svg xmlns=\"http://www.w3.org/2000/svg\" xmlns:xlink=\"http://www.w3.org/1999/xlink\" width=\"600\" height=\"400\" viewBox=\"0 0 2400 1600\">\n",
       "<defs>\n",
       "  <clipPath id=\"clip220\">\n",
       "    <rect x=\"0\" y=\"0\" width=\"2400\" height=\"1600\"/>\n",
       "  </clipPath>\n",
       "</defs>\n",
       "<path clip-path=\"url(#clip220)\" d=\"\n",
       "M0 1600 L2400 1600 L2400 0 L0 0  Z\n",
       "  \" fill=\"#ffffff\" fill-rule=\"evenodd\" fill-opacity=\"1\"/>\n",
       "<defs>\n",
       "  <clipPath id=\"clip221\">\n",
       "    <rect x=\"480\" y=\"0\" width=\"1681\" height=\"1600\"/>\n",
       "  </clipPath>\n",
       "</defs>\n",
       "<path clip-path=\"url(#clip220)\" d=\"\n",
       "M192.941 1486.45 L2352.76 1486.45 L2352.76 47.2441 L192.941 47.2441  Z\n",
       "  \" fill=\"#ffffff\" fill-rule=\"evenodd\" fill-opacity=\"1\"/>\n",
       "<defs>\n",
       "  <clipPath id=\"clip222\">\n",
       "    <rect x=\"192\" y=\"47\" width=\"2161\" height=\"1440\"/>\n",
       "  </clipPath>\n",
       "</defs>\n",
       "<polyline clip-path=\"url(#clip222)\" style=\"stroke:#000000; stroke-linecap:butt; stroke-linejoin:round; stroke-width:2; stroke-opacity:0.1; fill:none\" points=\"\n",
       "  254.067,1486.45 254.067,47.2441 \n",
       "  \"/>\n",
       "<polyline clip-path=\"url(#clip222)\" style=\"stroke:#000000; stroke-linecap:butt; stroke-linejoin:round; stroke-width:2; stroke-opacity:0.1; fill:none\" points=\"\n",
       "  593.661,1486.45 593.661,47.2441 \n",
       "  \"/>\n",
       "<polyline clip-path=\"url(#clip222)\" style=\"stroke:#000000; stroke-linecap:butt; stroke-linejoin:round; stroke-width:2; stroke-opacity:0.1; fill:none\" points=\"\n",
       "  933.255,1486.45 933.255,47.2441 \n",
       "  \"/>\n",
       "<polyline clip-path=\"url(#clip222)\" style=\"stroke:#000000; stroke-linecap:butt; stroke-linejoin:round; stroke-width:2; stroke-opacity:0.1; fill:none\" points=\"\n",
       "  1272.85,1486.45 1272.85,47.2441 \n",
       "  \"/>\n",
       "<polyline clip-path=\"url(#clip222)\" style=\"stroke:#000000; stroke-linecap:butt; stroke-linejoin:round; stroke-width:2; stroke-opacity:0.1; fill:none\" points=\"\n",
       "  1612.44,1486.45 1612.44,47.2441 \n",
       "  \"/>\n",
       "<polyline clip-path=\"url(#clip222)\" style=\"stroke:#000000; stroke-linecap:butt; stroke-linejoin:round; stroke-width:2; stroke-opacity:0.1; fill:none\" points=\"\n",
       "  1952.04,1486.45 1952.04,47.2441 \n",
       "  \"/>\n",
       "<polyline clip-path=\"url(#clip222)\" style=\"stroke:#000000; stroke-linecap:butt; stroke-linejoin:round; stroke-width:2; stroke-opacity:0.1; fill:none\" points=\"\n",
       "  2291.63,1486.45 2291.63,47.2441 \n",
       "  \"/>\n",
       "<polyline clip-path=\"url(#clip220)\" style=\"stroke:#000000; stroke-linecap:butt; stroke-linejoin:round; stroke-width:4; stroke-opacity:1; fill:none\" points=\"\n",
       "  192.941,1486.45 2352.76,1486.45 \n",
       "  \"/>\n",
       "<polyline clip-path=\"url(#clip220)\" style=\"stroke:#000000; stroke-linecap:butt; stroke-linejoin:round; stroke-width:4; stroke-opacity:1; fill:none\" points=\"\n",
       "  254.067,1486.45 254.067,1467.55 \n",
       "  \"/>\n",
       "<polyline clip-path=\"url(#clip220)\" style=\"stroke:#000000; stroke-linecap:butt; stroke-linejoin:round; stroke-width:4; stroke-opacity:1; fill:none\" points=\"\n",
       "  593.661,1486.45 593.661,1467.55 \n",
       "  \"/>\n",
       "<polyline clip-path=\"url(#clip220)\" style=\"stroke:#000000; stroke-linecap:butt; stroke-linejoin:round; stroke-width:4; stroke-opacity:1; fill:none\" points=\"\n",
       "  933.255,1486.45 933.255,1467.55 \n",
       "  \"/>\n",
       "<polyline clip-path=\"url(#clip220)\" style=\"stroke:#000000; stroke-linecap:butt; stroke-linejoin:round; stroke-width:4; stroke-opacity:1; fill:none\" points=\"\n",
       "  1272.85,1486.45 1272.85,1467.55 \n",
       "  \"/>\n",
       "<polyline clip-path=\"url(#clip220)\" style=\"stroke:#000000; stroke-linecap:butt; stroke-linejoin:round; stroke-width:4; stroke-opacity:1; fill:none\" points=\"\n",
       "  1612.44,1486.45 1612.44,1467.55 \n",
       "  \"/>\n",
       "<polyline clip-path=\"url(#clip220)\" style=\"stroke:#000000; stroke-linecap:butt; stroke-linejoin:round; stroke-width:4; stroke-opacity:1; fill:none\" points=\"\n",
       "  1952.04,1486.45 1952.04,1467.55 \n",
       "  \"/>\n",
       "<polyline clip-path=\"url(#clip220)\" style=\"stroke:#000000; stroke-linecap:butt; stroke-linejoin:round; stroke-width:4; stroke-opacity:1; fill:none\" points=\"\n",
       "  2291.63,1486.45 2291.63,1467.55 \n",
       "  \"/>\n",
       "<path clip-path=\"url(#clip220)\" d=\"M254.067 1517.37 Q250.456 1517.37 248.628 1520.93 Q246.822 1524.47 246.822 1531.6 Q246.822 1538.71 248.628 1542.27 Q250.456 1545.82 254.067 1545.82 Q257.702 1545.82 259.507 1542.27 Q261.336 1538.71 261.336 1531.6 Q261.336 1524.47 259.507 1520.93 Q257.702 1517.37 254.067 1517.37 M254.067 1513.66 Q259.878 1513.66 262.933 1518.27 Q266.012 1522.85 266.012 1531.6 Q266.012 1540.33 262.933 1544.94 Q259.878 1549.52 254.067 1549.52 Q248.257 1549.52 245.179 1544.94 Q242.123 1540.33 242.123 1531.6 Q242.123 1522.85 245.179 1518.27 Q248.257 1513.66 254.067 1513.66 Z\" fill=\"#000000\" fill-rule=\"evenodd\" fill-opacity=\"1\" /><path clip-path=\"url(#clip220)\" d=\"M584.043 1544.91 L591.682 1544.91 L591.682 1518.55 L583.372 1520.21 L583.372 1515.95 L591.636 1514.29 L596.312 1514.29 L596.312 1544.91 L603.95 1544.91 L603.95 1548.85 L584.043 1548.85 L584.043 1544.91 Z\" fill=\"#000000\" fill-rule=\"evenodd\" fill-opacity=\"1\" /><path clip-path=\"url(#clip220)\" d=\"M927.907 1544.91 L944.227 1544.91 L944.227 1548.85 L922.283 1548.85 L922.283 1544.91 Q924.945 1542.16 929.528 1537.53 Q934.134 1532.88 935.315 1531.53 Q937.56 1529.01 938.44 1527.27 Q939.343 1525.51 939.343 1523.82 Q939.343 1521.07 937.398 1519.33 Q935.477 1517.6 932.375 1517.6 Q930.176 1517.6 927.722 1518.36 Q925.292 1519.13 922.514 1520.68 L922.514 1515.95 Q925.338 1514.82 927.792 1514.24 Q930.245 1513.66 932.282 1513.66 Q937.653 1513.66 940.847 1516.35 Q944.042 1519.03 944.042 1523.52 Q944.042 1525.65 943.231 1527.57 Q942.444 1529.47 940.338 1532.07 Q939.759 1532.74 936.657 1535.95 Q933.556 1539.15 927.907 1544.91 Z\" fill=\"#000000\" fill-rule=\"evenodd\" fill-opacity=\"1\" /><path clip-path=\"url(#clip220)\" d=\"M1277.1 1530.21 Q1280.45 1530.93 1282.33 1533.2 Q1284.23 1535.47 1284.23 1538.8 Q1284.23 1543.92 1280.71 1546.72 Q1277.19 1549.52 1270.71 1549.52 Q1268.53 1549.52 1266.22 1549.08 Q1263.92 1548.66 1261.47 1547.81 L1261.47 1543.29 Q1263.42 1544.43 1265.73 1545.01 Q1268.05 1545.58 1270.57 1545.58 Q1274.97 1545.58 1277.26 1543.85 Q1279.57 1542.11 1279.57 1538.8 Q1279.57 1535.75 1277.42 1534.03 Q1275.29 1532.3 1271.47 1532.3 L1267.44 1532.3 L1267.44 1528.45 L1271.66 1528.45 Q1275.11 1528.45 1276.93 1527.09 Q1278.76 1525.7 1278.76 1523.11 Q1278.76 1520.45 1276.86 1519.03 Q1274.99 1517.6 1271.47 1517.6 Q1269.55 1517.6 1267.35 1518.01 Q1265.15 1518.43 1262.51 1519.31 L1262.51 1515.14 Q1265.17 1514.4 1267.49 1514.03 Q1269.83 1513.66 1271.89 1513.66 Q1277.21 1513.66 1280.31 1516.09 Q1283.42 1518.5 1283.42 1522.62 Q1283.42 1525.49 1281.77 1527.48 Q1280.13 1529.45 1277.1 1530.21 Z\" fill=\"#000000\" fill-rule=\"evenodd\" fill-opacity=\"1\" /><path clip-path=\"url(#clip220)\" d=\"M1615.45 1518.36 L1603.65 1536.81 L1615.45 1536.81 L1615.45 1518.36 M1614.22 1514.29 L1620.1 1514.29 L1620.1 1536.81 L1625.03 1536.81 L1625.03 1540.7 L1620.1 1540.7 L1620.1 1548.85 L1615.45 1548.85 L1615.45 1540.7 L1599.85 1540.7 L1599.85 1536.19 L1614.22 1514.29 Z\" fill=\"#000000\" fill-rule=\"evenodd\" fill-opacity=\"1\" /><path clip-path=\"url(#clip220)\" d=\"M1942.31 1514.29 L1960.67 1514.29 L1960.67 1518.22 L1946.6 1518.22 L1946.6 1526.7 Q1947.61 1526.35 1948.63 1526.19 Q1949.65 1526 1950.67 1526 Q1956.46 1526 1959.84 1529.17 Q1963.22 1532.34 1963.22 1537.76 Q1963.22 1543.34 1959.74 1546.44 Q1956.27 1549.52 1949.95 1549.52 Q1947.78 1549.52 1945.51 1549.15 Q1943.26 1548.78 1940.85 1548.04 L1940.85 1543.34 Q1942.94 1544.47 1945.16 1545.03 Q1947.38 1545.58 1949.86 1545.58 Q1953.86 1545.58 1956.2 1543.48 Q1958.54 1541.37 1958.54 1537.76 Q1958.54 1534.15 1956.2 1532.04 Q1953.86 1529.94 1949.86 1529.94 Q1947.98 1529.94 1946.11 1530.35 Q1944.26 1530.77 1942.31 1531.65 L1942.31 1514.29 Z\" fill=\"#000000\" fill-rule=\"evenodd\" fill-opacity=\"1\" /><path clip-path=\"url(#clip220)\" d=\"M2292.03 1529.7 Q2288.89 1529.7 2287.03 1531.86 Q2285.21 1534.01 2285.21 1537.76 Q2285.21 1541.49 2287.03 1543.66 Q2288.89 1545.82 2292.03 1545.82 Q2295.18 1545.82 2297.01 1543.66 Q2298.86 1541.49 2298.86 1537.76 Q2298.86 1534.01 2297.01 1531.86 Q2295.18 1529.7 2292.03 1529.7 M2301.32 1515.05 L2301.32 1519.31 Q2299.56 1518.48 2297.75 1518.04 Q2295.97 1517.6 2294.21 1517.6 Q2289.58 1517.6 2287.13 1520.72 Q2284.7 1523.85 2284.35 1530.17 Q2285.71 1528.15 2287.77 1527.09 Q2289.84 1526 2292.31 1526 Q2297.52 1526 2300.53 1529.17 Q2303.56 1532.32 2303.56 1537.76 Q2303.56 1543.08 2300.41 1546.3 Q2297.27 1549.52 2292.03 1549.52 Q2286.04 1549.52 2282.87 1544.94 Q2279.7 1540.33 2279.7 1531.6 Q2279.7 1523.41 2283.59 1518.55 Q2287.47 1513.66 2294.02 1513.66 Q2295.78 1513.66 2297.57 1514.01 Q2299.37 1514.36 2301.32 1515.05 Z\" fill=\"#000000\" fill-rule=\"evenodd\" fill-opacity=\"1\" /><polyline clip-path=\"url(#clip222)\" style=\"stroke:#000000; stroke-linecap:butt; stroke-linejoin:round; stroke-width:2; stroke-opacity:0.1; fill:none\" points=\"\n",
       "  192.941,1279.49 2352.76,1279.49 \n",
       "  \"/>\n",
       "<polyline clip-path=\"url(#clip222)\" style=\"stroke:#000000; stroke-linecap:butt; stroke-linejoin:round; stroke-width:2; stroke-opacity:0.1; fill:none\" points=\"\n",
       "  192.941,1021.78 2352.76,1021.78 \n",
       "  \"/>\n",
       "<polyline clip-path=\"url(#clip222)\" style=\"stroke:#000000; stroke-linecap:butt; stroke-linejoin:round; stroke-width:2; stroke-opacity:0.1; fill:none\" points=\"\n",
       "  192.941,764.058 2352.76,764.058 \n",
       "  \"/>\n",
       "<polyline clip-path=\"url(#clip222)\" style=\"stroke:#000000; stroke-linecap:butt; stroke-linejoin:round; stroke-width:2; stroke-opacity:0.1; fill:none\" points=\"\n",
       "  192.941,506.339 2352.76,506.339 \n",
       "  \"/>\n",
       "<polyline clip-path=\"url(#clip222)\" style=\"stroke:#000000; stroke-linecap:butt; stroke-linejoin:round; stroke-width:2; stroke-opacity:0.1; fill:none\" points=\"\n",
       "  192.941,248.621 2352.76,248.621 \n",
       "  \"/>\n",
       "<polyline clip-path=\"url(#clip220)\" style=\"stroke:#000000; stroke-linecap:butt; stroke-linejoin:round; stroke-width:4; stroke-opacity:1; fill:none\" points=\"\n",
       "  192.941,1486.45 192.941,47.2441 \n",
       "  \"/>\n",
       "<polyline clip-path=\"url(#clip220)\" style=\"stroke:#000000; stroke-linecap:butt; stroke-linejoin:round; stroke-width:4; stroke-opacity:1; fill:none\" points=\"\n",
       "  192.941,1279.49 211.838,1279.49 \n",
       "  \"/>\n",
       "<polyline clip-path=\"url(#clip220)\" style=\"stroke:#000000; stroke-linecap:butt; stroke-linejoin:round; stroke-width:4; stroke-opacity:1; fill:none\" points=\"\n",
       "  192.941,1021.78 211.838,1021.78 \n",
       "  \"/>\n",
       "<polyline clip-path=\"url(#clip220)\" style=\"stroke:#000000; stroke-linecap:butt; stroke-linejoin:round; stroke-width:4; stroke-opacity:1; fill:none\" points=\"\n",
       "  192.941,764.058 211.838,764.058 \n",
       "  \"/>\n",
       "<polyline clip-path=\"url(#clip220)\" style=\"stroke:#000000; stroke-linecap:butt; stroke-linejoin:round; stroke-width:4; stroke-opacity:1; fill:none\" points=\"\n",
       "  192.941,506.339 211.838,506.339 \n",
       "  \"/>\n",
       "<polyline clip-path=\"url(#clip220)\" style=\"stroke:#000000; stroke-linecap:butt; stroke-linejoin:round; stroke-width:4; stroke-opacity:1; fill:none\" points=\"\n",
       "  192.941,248.621 211.838,248.621 \n",
       "  \"/>\n",
       "<path clip-path=\"url(#clip220)\" d=\"M50.9921 1279.95 L80.6679 1279.95 L80.6679 1283.88 L50.9921 1283.88 L50.9921 1279.95 Z\" fill=\"#000000\" fill-rule=\"evenodd\" fill-opacity=\"1\" /><path clip-path=\"url(#clip220)\" d=\"M94.7882 1292.84 L111.108 1292.84 L111.108 1296.77 L89.1632 1296.77 L89.1632 1292.84 Q91.8252 1290.08 96.4085 1285.46 Q101.015 1280.8 102.196 1279.46 Q104.441 1276.94 105.321 1275.2 Q106.223 1273.44 106.223 1271.75 Q106.223 1269 104.279 1267.26 Q102.358 1265.52 99.2558 1265.52 Q97.0567 1265.52 94.603 1266.29 Q92.1725 1267.05 89.3947 1268.6 L89.3947 1263.88 Q92.2188 1262.75 94.6724 1262.17 Q97.1261 1261.59 99.1632 1261.59 Q104.534 1261.59 107.728 1264.27 Q110.922 1266.96 110.922 1271.45 Q110.922 1273.58 110.112 1275.5 Q109.325 1277.4 107.219 1279.99 Q106.64 1280.66 103.538 1283.88 Q100.436 1287.08 94.7882 1292.84 Z\" fill=\"#000000\" fill-rule=\"evenodd\" fill-opacity=\"1\" /><path clip-path=\"url(#clip220)\" d=\"M120.922 1290.9 L125.807 1290.9 L125.807 1296.77 L120.922 1296.77 L120.922 1290.9 Z\" fill=\"#000000\" fill-rule=\"evenodd\" fill-opacity=\"1\" /><path clip-path=\"url(#clip220)\" d=\"M136.038 1262.21 L154.394 1262.21 L154.394 1266.15 L140.32 1266.15 L140.32 1274.62 Q141.339 1274.27 142.357 1274.11 Q143.376 1273.93 144.394 1273.93 Q150.181 1273.93 153.561 1277.1 Q156.941 1280.27 156.941 1285.69 Q156.941 1291.27 153.468 1294.37 Q149.996 1297.45 143.677 1297.45 Q141.501 1297.45 139.232 1297.08 Q136.987 1296.71 134.58 1295.96 L134.58 1291.27 Q136.663 1292.4 138.885 1292.96 Q141.107 1293.51 143.584 1293.51 Q147.589 1293.51 149.927 1291.4 Q152.265 1289.3 152.265 1285.69 Q152.265 1282.08 149.927 1279.97 Q147.589 1277.86 143.584 1277.86 Q141.709 1277.86 139.834 1278.28 Q137.982 1278.7 136.038 1279.58 L136.038 1262.21 Z\" fill=\"#000000\" fill-rule=\"evenodd\" fill-opacity=\"1\" /><path clip-path=\"url(#clip220)\" d=\"M99.765 1007.57 Q96.1539 1007.57 94.3252 1011.14 Q92.5197 1014.68 92.5197 1021.81 Q92.5197 1028.92 94.3252 1032.48 Q96.1539 1036.02 99.765 1036.02 Q103.399 1036.02 105.205 1032.48 Q107.033 1028.92 107.033 1021.81 Q107.033 1014.68 105.205 1011.14 Q103.399 1007.57 99.765 1007.57 M99.765 1003.87 Q105.575 1003.87 108.631 1008.48 Q111.709 1013.06 111.709 1021.81 Q111.709 1030.54 108.631 1035.14 Q105.575 1039.73 99.765 1039.73 Q93.9549 1039.73 90.8762 1035.14 Q87.8206 1030.54 87.8206 1021.81 Q87.8206 1013.06 90.8762 1008.48 Q93.9549 1003.87 99.765 1003.87 Z\" fill=\"#000000\" fill-rule=\"evenodd\" fill-opacity=\"1\" /><path clip-path=\"url(#clip220)\" d=\"M119.927 1033.18 L124.811 1033.18 L124.811 1039.06 L119.927 1039.06 L119.927 1033.18 Z\" fill=\"#000000\" fill-rule=\"evenodd\" fill-opacity=\"1\" /><path clip-path=\"url(#clip220)\" d=\"M144.996 1007.57 Q141.385 1007.57 139.556 1011.14 Q137.751 1014.68 137.751 1021.81 Q137.751 1028.92 139.556 1032.48 Q141.385 1036.02 144.996 1036.02 Q148.63 1036.02 150.436 1032.48 Q152.265 1028.92 152.265 1021.81 Q152.265 1014.68 150.436 1011.14 Q148.63 1007.57 144.996 1007.57 M144.996 1003.87 Q150.806 1003.87 153.862 1008.48 Q156.941 1013.06 156.941 1021.81 Q156.941 1030.54 153.862 1035.14 Q150.806 1039.73 144.996 1039.73 Q139.186 1039.73 136.107 1035.14 Q133.052 1030.54 133.052 1021.81 Q133.052 1013.06 136.107 1008.48 Q139.186 1003.87 144.996 1003.87 Z\" fill=\"#000000\" fill-rule=\"evenodd\" fill-opacity=\"1\" /><path clip-path=\"url(#clip220)\" d=\"M94.7882 777.403 L111.108 777.403 L111.108 781.338 L89.1632 781.338 L89.1632 777.403 Q91.8252 774.648 96.4085 770.018 Q101.015 765.366 102.196 764.023 Q104.441 761.5 105.321 759.764 Q106.223 758.004 106.223 756.315 Q106.223 753.56 104.279 751.824 Q102.358 750.088 99.2558 750.088 Q97.0567 750.088 94.603 750.852 Q92.1725 751.616 89.3947 753.167 L89.3947 748.444 Q92.2188 747.31 94.6724 746.731 Q97.1261 746.153 99.1632 746.153 Q104.534 746.153 107.728 748.838 Q110.922 751.523 110.922 756.014 Q110.922 758.143 110.112 760.065 Q109.325 761.963 107.219 764.555 Q106.64 765.227 103.538 768.444 Q100.436 771.639 94.7882 777.403 Z\" fill=\"#000000\" fill-rule=\"evenodd\" fill-opacity=\"1\" /><path clip-path=\"url(#clip220)\" d=\"M120.922 775.458 L125.807 775.458 L125.807 781.338 L120.922 781.338 L120.922 775.458 Z\" fill=\"#000000\" fill-rule=\"evenodd\" fill-opacity=\"1\" /><path clip-path=\"url(#clip220)\" d=\"M136.038 746.778 L154.394 746.778 L154.394 750.713 L140.32 750.713 L140.32 759.185 Q141.339 758.838 142.357 758.676 Q143.376 758.491 144.394 758.491 Q150.181 758.491 153.561 761.662 Q156.941 764.833 156.941 770.25 Q156.941 775.828 153.468 778.93 Q149.996 782.009 143.677 782.009 Q141.501 782.009 139.232 781.639 Q136.987 781.268 134.58 780.527 L134.58 775.828 Q136.663 776.963 138.885 777.518 Q141.107 778.074 143.584 778.074 Q147.589 778.074 149.927 775.967 Q152.265 773.861 152.265 770.25 Q152.265 766.639 149.927 764.532 Q147.589 762.426 143.584 762.426 Q141.709 762.426 139.834 762.842 Q137.982 763.259 136.038 764.139 L136.038 746.778 Z\" fill=\"#000000\" fill-rule=\"evenodd\" fill-opacity=\"1\" /><path clip-path=\"url(#clip220)\" d=\"M89.8114 489.059 L108.168 489.059 L108.168 492.994 L94.0937 492.994 L94.0937 501.466 Q95.1123 501.119 96.1308 500.957 Q97.1493 500.772 98.1678 500.772 Q103.955 500.772 107.334 503.943 Q110.714 507.115 110.714 512.531 Q110.714 518.11 107.242 521.212 Q103.77 524.29 97.4502 524.29 Q95.2743 524.29 93.0058 523.92 Q90.7604 523.55 88.353 522.809 L88.353 518.11 Q90.4364 519.244 92.6586 519.8 Q94.8808 520.355 97.3576 520.355 Q101.362 520.355 103.7 518.249 Q106.038 516.142 106.038 512.531 Q106.038 508.92 103.7 506.814 Q101.362 504.707 97.3576 504.707 Q95.4826 504.707 93.6076 505.124 Q91.7558 505.541 89.8114 506.42 L89.8114 489.059 Z\" fill=\"#000000\" fill-rule=\"evenodd\" fill-opacity=\"1\" /><path clip-path=\"url(#clip220)\" d=\"M119.927 517.74 L124.811 517.74 L124.811 523.619 L119.927 523.619 L119.927 517.74 Z\" fill=\"#000000\" fill-rule=\"evenodd\" fill-opacity=\"1\" /><path clip-path=\"url(#clip220)\" d=\"M144.996 492.138 Q141.385 492.138 139.556 495.703 Q137.751 499.244 137.751 506.374 Q137.751 513.48 139.556 517.045 Q141.385 520.587 144.996 520.587 Q148.63 520.587 150.436 517.045 Q152.265 513.48 152.265 506.374 Q152.265 499.244 150.436 495.703 Q148.63 492.138 144.996 492.138 M144.996 488.434 Q150.806 488.434 153.862 493.041 Q156.941 497.624 156.941 506.374 Q156.941 515.101 153.862 519.707 Q150.806 524.29 144.996 524.29 Q139.186 524.29 136.107 519.707 Q133.052 515.101 133.052 506.374 Q133.052 497.624 136.107 493.041 Q139.186 488.434 144.996 488.434 Z\" fill=\"#000000\" fill-rule=\"evenodd\" fill-opacity=\"1\" /><path clip-path=\"url(#clip220)\" d=\"M89.5799 231.341 L111.802 231.341 L111.802 233.331 L99.2558 265.901 L94.3715 265.901 L106.177 235.276 L89.5799 235.276 L89.5799 231.341 Z\" fill=\"#000000\" fill-rule=\"evenodd\" fill-opacity=\"1\" /><path clip-path=\"url(#clip220)\" d=\"M120.922 260.021 L125.807 260.021 L125.807 265.901 L120.922 265.901 L120.922 260.021 Z\" fill=\"#000000\" fill-rule=\"evenodd\" fill-opacity=\"1\" /><path clip-path=\"url(#clip220)\" d=\"M136.038 231.341 L154.394 231.341 L154.394 235.276 L140.32 235.276 L140.32 243.748 Q141.339 243.401 142.357 243.239 Q143.376 243.053 144.394 243.053 Q150.181 243.053 153.561 246.225 Q156.941 249.396 156.941 254.813 Q156.941 260.391 153.468 263.493 Q149.996 266.572 143.677 266.572 Q141.501 266.572 139.232 266.202 Q136.987 265.831 134.58 265.09 L134.58 260.391 Q136.663 261.526 138.885 262.081 Q141.107 262.637 143.584 262.637 Q147.589 262.637 149.927 260.53 Q152.265 258.424 152.265 254.813 Q152.265 251.202 149.927 249.095 Q147.589 246.989 143.584 246.989 Q141.709 246.989 139.834 247.405 Q137.982 247.822 136.038 248.702 L136.038 231.341 Z\" fill=\"#000000\" fill-rule=\"evenodd\" fill-opacity=\"1\" /><polyline clip-path=\"url(#clip222)\" style=\"stroke:#009af9; stroke-linecap:butt; stroke-linejoin:round; stroke-width:4; stroke-opacity:1; fill:none\" points=\"\n",
       "  254.067,956.869 273.966,950.949 457.956,884.121 568.526,829.9 662.012,772.208 712.788,735.042 763.564,692.917 810.375,649.034 857.186,599.668 907.372,540.002 \n",
       "  957.558,472.913 1015.7,386.176 1073.85,292.359 1125.52,208.961 1177.2,136.519 1199.85,112.441 1222.51,95.5994 1245.16,87.9763 1267.82,91.5139 1292.52,110.051 \n",
       "  1317.22,145.31 1341.92,197.644 1366.63,266.053 1391.47,348.686 1416.32,441.634 1441.17,540.7 1466.02,641.621 1493.49,750.788 1520.96,853.558 1548.44,947.287 \n",
       "  1575.91,1030.62 1602.05,1099.95 1628.19,1159.87 1654.33,1211.08 1680.47,1254.44 1707.65,1292.19 1734.83,1323.48 1762.01,1349.27 1789.19,1370.4 1834.94,1397.47 \n",
       "  1880.7,1416.29 1992.43,1439.87 2097.47,1445.72 2265.73,1441.01 2291.63,1439.55 \n",
       "  \"/>\n",
       "<path clip-path=\"url(#clip220)\" d=\"\n",
       "M1988.35 198.898 L2280.76 198.898 L2280.76 95.2176 L1988.35 95.2176  Z\n",
       "  \" fill=\"#ffffff\" fill-rule=\"evenodd\" fill-opacity=\"1\"/>\n",
       "<polyline clip-path=\"url(#clip220)\" style=\"stroke:#000000; stroke-linecap:butt; stroke-linejoin:round; stroke-width:4; stroke-opacity:1; fill:none\" points=\"\n",
       "  1988.35,198.898 2280.76,198.898 2280.76,95.2176 1988.35,95.2176 1988.35,198.898 \n",
       "  \"/>\n",
       "<polyline clip-path=\"url(#clip220)\" style=\"stroke:#009af9; stroke-linecap:butt; stroke-linejoin:round; stroke-width:4; stroke-opacity:1; fill:none\" points=\"\n",
       "  2012.35,147.058 2156.34,147.058 \n",
       "  \"/>\n",
       "<path clip-path=\"url(#clip220)\" d=\"M2194.18 166.745 Q2192.37 171.375 2190.66 172.787 Q2188.95 174.199 2186.08 174.199 L2182.67 174.199 L2182.67 170.634 L2185.17 170.634 Q2186.93 170.634 2187.91 169.8 Q2188.88 168.967 2190.06 165.865 L2190.82 163.921 L2180.34 138.412 L2184.85 138.412 L2192.95 158.689 L2201.05 138.412 L2205.57 138.412 L2194.18 166.745 Z\" fill=\"#000000\" fill-rule=\"evenodd\" fill-opacity=\"1\" /><path clip-path=\"url(#clip220)\" d=\"M2212.86 160.402 L2220.5 160.402 L2220.5 134.037 L2212.19 135.703 L2212.19 131.444 L2220.45 129.778 L2225.13 129.778 L2225.13 160.402 L2232.77 160.402 L2232.77 164.338 L2212.86 164.338 L2212.86 160.402 Z\" fill=\"#000000\" fill-rule=\"evenodd\" fill-opacity=\"1\" /></svg>\n"
      ]
     },
     "execution_count": 17,
     "metadata": {},
     "output_type": "execute_result"
    }
   ],
   "source": [
    "# as calculated above, c1, c2, c3, d1 and d2 are : 0.6296296296296255, 0.6049382716049432, -0.19753086419753174, -0.5679012345679012\n",
    "# and 0.08641975308641975 respectively\n",
    "\n",
    "f(x) = (C[1] + C[2]*x + C[3]*x*x) / (1 + C[4]x + C[5]x*x )\n",
    "\n",
    "plot(f, 0, 6)"
   ]
  },
  {
   "cell_type": "code",
   "execution_count": 15,
   "metadata": {},
   "outputs": [
    {
     "name": "stdout",
     "output_type": "stream",
     "text": [
      "As can be seen in the graph, f(1) : 2.0, f(2): 5.0, f(3): 9.0, f(4): -1.0, f(5): -4.0\n"
     ]
    }
   ],
   "source": [
    "println(\"As can be seen in the graph, f(1) : $(round(f(1))), f(2): $(round(f(2))), f(3): $(round(f(3))), f(4): $(round(f(4))), f(5): $(round(f(5)))\")\n",
    "### note: I have rounded these values because I was getting values like 5.000000004 instead of 5 due to floating point precision"
   ]
  },
  {
   "cell_type": "code",
   "execution_count": null,
   "metadata": {},
   "outputs": [],
   "source": []
  },
  {
   "cell_type": "code",
   "execution_count": null,
   "metadata": {},
   "outputs": [],
   "source": [
    "#11.21\n",
    "\n",
    "\n",
    "# here we have the matrix M as [1 1 1 1; t1 t2 t3 t4; t1^2 t2^2 t3^2 t4^2; t1^3 t2^3 t3^3 t4^3]\n",
    "# we have to find the weights W\n",
    "# we define vk as (Integral[(-1 to 1) t^k-1 dt]) which comes out to be 2/k if k is odd and 0 if k is even\n",
    "# therefore we get v1 = 2, v2 = 0, v3 = 2/3 and v4 = 0"
   ]
  },
  {
   "cell_type": "code",
   "execution_count": 42,
   "metadata": {},
   "outputs": [
    {
     "data": {
      "text/plain": [
       "4-element Vector{Float64}:\n",
       " 0.9166666666666667\n",
       " 0.08333333333333329\n",
       " 0.08333333333333319\n",
       " 0.9166666666666667"
      ]
     },
     "execution_count": 42,
     "metadata": {},
     "output_type": "execute_result"
    }
   ],
   "source": [
    "\n",
    "t = [-0.6 -0.2 0.2 0.6]\n",
    "M = [1 1 1 1 ; t[1] t[2] t[3] t[4]; t[1]^2 t[2]^2 t[3]^2 t[4]^2; t[1]^3 t[2]^3 t[3]^3 t[4]^3]\n",
    "v = [2, 0, 2/3, 0]\n",
    "w = M \\ v"
   ]
  },
  {
   "cell_type": "code",
   "execution_count": 43,
   "metadata": {},
   "outputs": [
    {
     "data": {
      "text/plain": [
       "2.3433640260473365"
      ]
     },
     "execution_count": 43,
     "metadata": {},
     "output_type": "execute_result"
    }
   ],
   "source": [
    "# this is the value of approximation that we get for f(x) = e^x\n",
    "acap = w[1]*e^t[1] + w[2]*e^t[2] + w[3]*e^t[3] + w[4]*e^t[4]"
   ]
  },
  {
   "cell_type": "code",
   "execution_count": 44,
   "metadata": {},
   "outputs": [
    {
     "data": {
      "text/plain": [
       "2.3504023872876028"
      ]
     },
     "execution_count": 44,
     "metadata": {},
     "output_type": "execute_result"
    }
   ],
   "source": [
    "# this is the real value with f(x) = e^x\n",
    "aorig =  e^1 - e^-1"
   ]
  }
 ],
 "metadata": {
  "kernelspec": {
   "display_name": "Julia 1.6.2",
   "language": "julia",
   "name": "julia-1.6"
  },
  "language_info": {
   "file_extension": ".jl",
   "mimetype": "application/julia",
   "name": "julia",
   "version": "1.6.2"
  }
 },
 "nbformat": 4,
 "nbformat_minor": 4
}
