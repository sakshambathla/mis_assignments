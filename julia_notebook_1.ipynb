{
 "cells": [
  {
   "cell_type": "code",
   "execution_count": null,
   "metadata": {},
   "outputs": [],
   "source": [
    "# (4). A1.2"
   ]
  },
  {
   "cell_type": "code",
   "execution_count": 48,
   "metadata": {},
   "outputs": [
    {
     "data": {
      "text/plain": [
       "0.0795981192560884"
      ]
     },
     "execution_count": 48,
     "metadata": {},
     "output_type": "execute_result"
    }
   ],
   "source": [
    "# (a)  a T x extracts (is equal to) the 5th entry of the 10-vector x\n",
    "\n",
    "x = rand(10)\n",
    "a = zeros(10)\n",
    "a[5] = 1\n",
    "sol = dot(a,x)\n"
   ]
  },
  {
   "cell_type": "code",
   "execution_count": 24,
   "metadata": {},
   "outputs": [
    {
     "data": {
      "text/plain": [
       "0.7031966235592786"
      ]
     },
     "execution_count": 24,
     "metadata": {},
     "output_type": "execute_result"
    }
   ],
   "source": [
    "# (b) a T x is the weighted average of a 3-vector x, assigning weights 0.3 to the first component, 0.4 to the second, and 0.3 to the third\n",
    "\n",
    "x = rand(3)\n",
    "a = [0.3,0.4,0.3]\n",
    "sol = dot(a,x)"
   ]
  },
  {
   "cell_type": "code",
   "execution_count": 43,
   "metadata": {},
   "outputs": [
    {
     "data": {
      "text/plain": [
       "1.3883119441574527"
      ]
     },
     "execution_count": 43,
     "metadata": {},
     "output_type": "execute_result"
    }
   ],
   "source": [
    "# (c) a T x (with x a 22-vector) is the sum of xi for i a multiple of a 4, minus the sum of xi for i a multiple of 7.\n",
    "\n",
    "x = rand(22)\n",
    "a = zeros(22)\n",
    "for i in 1:22\n",
    "    if i%4 == 0\n",
    "        a[i] += 1\n",
    "    end    \n",
    "    if i%7 == 0\n",
    "         a[i] -= 1\n",
    "    end\n",
    "end\n",
    "sol = dot(a,x)\n"
   ]
  },
  {
   "cell_type": "code",
   "execution_count": 49,
   "metadata": {},
   "outputs": [
    {
     "data": {
      "text/plain": [
       "0.6058397289570763"
      ]
     },
     "execution_count": 49,
     "metadata": {},
     "output_type": "execute_result"
    }
   ],
   "source": [
    "# (d) a T x (with x an 11-vector) is the average of the middle five entries of x, i.e., entries 4 to 8. \n",
    "\n",
    "x = rand(11)\n",
    "a = zeros(11)\n",
    "a[4:8] = ones(5)/5\n",
    "sol = dot(a,x)"
   ]
  },
  {
   "cell_type": "code",
   "execution_count": null,
   "metadata": {},
   "outputs": [],
   "source": []
  },
  {
   "cell_type": "code",
   "execution_count": null,
   "metadata": {},
   "outputs": [],
   "source": []
  }
 ],
 "metadata": {
  "kernelspec": {
   "display_name": "Julia 1.6.2",
   "language": "julia",
   "name": "julia-1.6"
  },
  "language_info": {
   "file_extension": ".jl",
   "mimetype": "application/julia",
   "name": "julia",
   "version": "1.6.2"
  }
 },
 "nbformat": 4,
 "nbformat_minor": 4
}
