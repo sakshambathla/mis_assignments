{
 "cells": [
  {
   "cell_type": "code",
   "execution_count": 3,
   "metadata": {},
   "outputs": [
    {
     "data": {
      "text/plain": [
       "4×5 Matrix{Float64}:\n",
       " 1.0  2.0   4.0   8.0   16.0\n",
       " 1.0  1.0   1.0   1.0    1.0\n",
       " 1.0  3.0   9.0  27.0   81.0\n",
       " 1.0  4.0  16.0  64.0  256.0"
      ]
     },
     "execution_count": 3,
     "metadata": {},
     "output_type": "execute_result"
    }
   ],
   "source": [
    "\n",
    "\n",
    "function vandermondematrix(t,n)\n",
    "    l = length(t)\n",
    "    V = zeros(l,n)\n",
    "    for i in 1:l\n",
    "        for j in 1:n\n",
    "            V[i,j] = t[i]^(j-1)\n",
    "        end\n",
    "    end\n",
    "    return V\n",
    "end\n"
   ]
  },
  {
   "cell_type": "code",
   "execution_count": null,
   "metadata": {},
   "outputs": [],
   "source": []
  },
  {
   "cell_type": "code",
   "execution_count": null,
   "metadata": {},
   "outputs": [],
   "source": []
  }
 ],
 "metadata": {
  "kernelspec": {
   "display_name": "Julia 1.6.2",
   "language": "julia",
   "name": "julia-1.6"
  },
  "language_info": {
   "file_extension": ".jl",
   "mimetype": "application/julia",
   "name": "julia",
   "version": "1.6.2"
  }
 },
 "nbformat": 4,
 "nbformat_minor": 4
}
